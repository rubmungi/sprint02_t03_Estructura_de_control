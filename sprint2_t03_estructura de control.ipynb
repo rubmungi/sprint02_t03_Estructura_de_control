{
 "cells": [
  {
   "cell_type": "markdown",
   "id": "a6a9f016",
   "metadata": {},
   "source": [
    "# S02 T03: Estructura de control"
   ]
  },
  {
   "cell_type": "markdown",
   "id": "86512bfc",
   "metadata": {},
   "source": [
    "## Exercici 1. L'exercici consisteix a crear un programa que et classifiqui una variable numèrica en funció de l’escala Suspès/Aprovat/Notable/Excel·lent."
   ]
  },
  {
   "cell_type": "code",
   "execution_count": 1,
   "id": "ac621e40",
   "metadata": {},
   "outputs": [
    {
     "name": "stdout",
     "output_type": "stream",
     "text": [
      "Si us plau, introdueixi nota numèrica i premi la tecla intro\n",
      "11\n",
      "Valor nor vàlid: introdueixi nota numèrica entre 0 i 10\n"
     ]
    }
   ],
   "source": [
    "try:\n",
    "    print(\"Si us plau, introdueixi nota numèrica i premi la tecla intro\")\n",
    "    nota=float(input())  \n",
    "    if nota >=0 and nota < 5:\n",
    "        print(\"Qualificació: Suspès\")\n",
    "    elif nota <7:\n",
    "        print(\"Qualificació: Aprovat\")\n",
    "    elif nota <9:\n",
    "        print(\"Qualificació: Notable\")\n",
    "    elif nota <=10:\n",
    "        print(\"Qualificació: Excel·lent\")\n",
    "    elif nota >10:\n",
    "        print(\"Valor nor vàlid: introdueixi nota numèrica entre 0 i 10\")\n",
    "except:\n",
    "    print(\"Valor no vàlid: introdueixi nota numèrica entre 0 i 10\")"
   ]
  },
  {
   "cell_type": "markdown",
   "id": "0aff5238",
   "metadata": {},
   "source": [
    "## Exercici 2. Utilitzant el següent tutorial Programiz: Python Input, Output and Import crea un programa que et pregunti dos números. T’ha de mostrar un missatge dient si el primer és més gran, el segon és més gran o són iguals."
   ]
  },
  {
   "cell_type": "code",
   "execution_count": 2,
   "id": "c820cb1a",
   "metadata": {
    "code_folding": []
   },
   "outputs": [
    {
     "name": "stdout",
     "output_type": "stream",
     "text": [
      "Introdueixi 1r número i premi la tecla Intro: \n",
      "17\n",
      "Introdueixi 2n número i premi la tecla Intro: \n",
      "-3\n",
      "17.0, el primer número, és més gran que el segon número, -3.0\n"
     ]
    }
   ],
   "source": [
    "try:\n",
    "    print(\"Introdueixi 1r número i premi la tecla Intro: \")\n",
    "    num01=float(input())\n",
    "    print(\"Introdueixi 2n número i premi la tecla Intro: \")\n",
    "    num02=float(input())\n",
    "    if num01==num02:\n",
    "        print(str(num01)+\", el primer número, és igual al segon número, \"+str(num02))\n",
    "    elif num01>num02:\n",
    "        print(str(num01)+\", el primer número, és més gran que el segon número, \" +str(num02))\n",
    "    elif num01<num02:\n",
    "        print(str(num02)+\", el segon número, és més gran que el segon número, \" +str(num01))  \n",
    "except:\n",
    "    print(\"Valor no vàlid: introdueixi número correctament\")"
   ]
  },
  {
   "cell_type": "markdown",
   "id": "66baed79",
   "metadata": {},
   "source": [
    "## Exercici 3. Crea un programa que et pregunti el teu nom, i et demani un número. Si el número és 0, hauria de mostrar un missatge d’error. En cas contrari, hauria de mostrar el nom repetit tants cops com indiqui el número. Per exemple, “Joan Joan Joan”."
   ]
  },
  {
   "cell_type": "code",
   "execution_count": 3,
   "id": "dbf9dbed",
   "metadata": {},
   "outputs": [
    {
     "name": "stdout",
     "output_type": "stream",
     "text": [
      "Introdueixi un nom i premi Intro: \n",
      "Silvia\n",
      "Introdueixi un número sencer entre 1 i 100, i premi Intro: \n",
      "85\n",
      "Silvia  Silvia  Silvia  Silvia  Silvia  Silvia  Silvia  Silvia  Silvia  Silvia  Silvia  Silvia  Silvia  Silvia  Silvia  Silvia  Silvia  Silvia  Silvia  Silvia  Silvia  Silvia  Silvia  Silvia  Silvia  Silvia  Silvia  Silvia  Silvia  Silvia  Silvia  Silvia  Silvia  Silvia  Silvia  Silvia  Silvia  Silvia  Silvia  Silvia  Silvia  Silvia  Silvia  Silvia  Silvia  Silvia  Silvia  Silvia  Silvia  Silvia  Silvia  Silvia  Silvia  Silvia  Silvia  Silvia  Silvia  Silvia  Silvia  Silvia  Silvia  Silvia  Silvia  Silvia  Silvia  Silvia  Silvia  Silvia  Silvia  Silvia  Silvia  Silvia  Silvia  Silvia  Silvia  Silvia  Silvia  Silvia  Silvia  Silvia  Silvia  Silvia  Silvia  Silvia  Silvia  "
     ]
    }
   ],
   "source": [
    "try:\n",
    "    print(\"Introdueixi un nom i premi Intro: \")\n",
    "    nom=input()\n",
    "    print(\"Introdueixi un número sencer entre 1 i 100, i premi Intro: \")\n",
    "    repe=int(input())\n",
    "    if repe<=0:\n",
    "        print(\"Error: cal introduir un número entre 1 i 100\")\n",
    "    elif repe>0 and repe<=100:\n",
    "        for i in range(repe):\n",
    "            print(str(nom) + \" \", end=\" \")\n",
    "except:\n",
    "    print(\"Valor no vàlid: introdueixi número correctament\")"
   ]
  },
  {
   "cell_type": "markdown",
   "id": "fc5028e9",
   "metadata": {},
   "source": [
    "## Exercici 4. Crea un programa que donada una llista qualsevol, et digui si es simètrica o no. Si ho és, que et digui quants elements té."
   ]
  },
  {
   "cell_type": "code",
   "execution_count": 4,
   "id": "1f43142f",
   "metadata": {},
   "outputs": [
    {
     "name": "stdout",
     "output_type": "stream",
     "text": [
      "Introdueixi valors per crear una llista, separats per un espai en blanc, i premi Intro: 1 lechuga manzanita True\n",
      "Llista: ['1', 'lechuga', 'manzanita', 'True']\n",
      "És simètrica i té 4 elements\n"
     ]
    }
   ],
   "source": [
    "llista01=input(\"Introdueixi valors per crear una llista, separats per un espai en blanc, i premi Intro: \")\n",
    "llista02=llista01.split()\n",
    "print(\"Llista: \" + str(llista02))\n",
    "\n",
    "if len(llista02)%2==0:\n",
    "    print(\"És simètrica i té \" + str(len(llista02)) + \" elements\")\n",
    "else:\n",
    "    print(\"No és simètrica\")"
   ]
  },
  {
   "cell_type": "markdown",
   "id": "1934dce0",
   "metadata": {},
   "source": [
    "## Exercici 5. Crea un programa que donada una llista, et digui quants números coincideixen amb la seva posició. Per exemple [3,4,2,0,2,3,6] el 2 i el 6 coincideixen."
   ]
  },
  {
   "cell_type": "code",
   "execution_count": 5,
   "id": "028fe7d7",
   "metadata": {},
   "outputs": [
    {
     "name": "stdout",
     "output_type": "stream",
     "text": [
      "Introdueixi valors numèrics per crear una llista, separats per un espai en blanc, i premi Intro: 0 1 2 5 5 5 6 9 9 9 9 \n",
      "Llista: ['0', '1', '2', '5', '5', '5', '6', '9', '9', '9', '9']\n",
      "Llista cadena convertida en numèrica: [0, 1, 2, 5, 5, 5, 6, 9, 9, 9, 9]\n",
      "Coincidència en índex i valor (posició = número): 0\n",
      "Coincidència en índex i valor (posició = número): 1\n",
      "Coincidència en índex i valor (posició = número): 2\n",
      "Coincidència en índex i valor (posició = número): 5\n",
      "Coincidència en índex i valor (posició = número): 6\n",
      "Coincidència en índex i valor (posició = número): 9\n",
      "Coincidències totals: 6\n"
     ]
    }
   ],
   "source": [
    "llista03=input(\"Introdueixi valors numèrics per crear una llista, separats per un espai en blanc, i premi Intro: \")\n",
    "llista04=llista03.split()\n",
    "print(\"Llista: \" + str(llista04))\n",
    "\n",
    "try:\n",
    "    llista05 = list(map(int, llista04))\n",
    "    print(\"Llista cadena convertida en numèrica: \"+str(llista05))\n",
    "    comptador=0\n",
    "    for i in range(len(llista05)):\n",
    "        if llista05[i]==i:\n",
    "            print(\"Coincidència en índex i valor (posició = número): \" + str(i))\n",
    "            comptador=comptador+1\n",
    "    print(\"Coincidències totals: \" + str(comptador))\n",
    "except:\n",
    "    print(\"Valor no vàlid: introdueixi llista numèrica correctament\")"
   ]
  },
  {
   "cell_type": "code",
   "execution_count": null,
   "id": "043ecfe6",
   "metadata": {},
   "outputs": [],
   "source": []
  },
  {
   "cell_type": "code",
   "execution_count": null,
   "id": "94bd0e03",
   "metadata": {},
   "outputs": [],
   "source": []
  }
 ],
 "metadata": {
  "kernelspec": {
   "display_name": "Python 3 (ipykernel)",
   "language": "python",
   "name": "python3"
  },
  "language_info": {
   "codemirror_mode": {
    "name": "ipython",
    "version": 3
   },
   "file_extension": ".py",
   "mimetype": "text/x-python",
   "name": "python",
   "nbconvert_exporter": "python",
   "pygments_lexer": "ipython3",
   "version": "3.9.7"
  }
 },
 "nbformat": 4,
 "nbformat_minor": 5
}
